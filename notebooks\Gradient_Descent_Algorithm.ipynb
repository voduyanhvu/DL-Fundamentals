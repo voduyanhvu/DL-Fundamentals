{
  "nbformat": 4,
  "nbformat_minor": 0,
  "metadata": {
    "colab": {
      "provenance": [],
      "authorship_tag": "ABX9TyNfMGkNfg+jAhDdfXr8y8ei",
      "include_colab_link": true
    },
    "kernelspec": {
      "name": "python3",
      "display_name": "Python 3"
    },
    "language_info": {
      "name": "python"
    }
  },
  "cells": [
    {
      "cell_type": "markdown",
      "metadata": {
        "id": "view-in-github",
        "colab_type": "text"
      },
      "source": [
        "<a href=\"https://colab.research.google.com/github/voduyanhvu/DL-Fundamentals/blob/main/notebooks%5CGradient_Descent_Algorithm.ipynb\" target=\"_parent\"><img src=\"https://colab.research.google.com/assets/colab-badge.svg\" alt=\"Open In Colab\"/></a>"
      ]
    },
    {
      "cell_type": "code",
      "execution_count": 9,
      "metadata": {
        "colab": {
          "base_uri": "https://localhost:8080/"
        },
        "id": "TADNC32DiusV",
        "outputId": "e3c5d383-8f7d-408b-9eac-fd7f1b1392a4"
      },
      "outputs": [
        {
          "output_type": "stream",
          "name": "stdout",
          "text": [
            "Max value of L(theta)\n",
            "is reached at\n"
          ]
        },
        {
          "output_type": "execute_result",
          "data": {
            "text/plain": [
              "-0.9999909735290391"
            ]
          },
          "metadata": {},
          "execution_count": 9
        }
      ],
      "source": [
        "def L(theta):\n",
        "  return -3*(theta**2)-(6*theta)+2\n",
        "def gradient(theta):\n",
        "  return -6*theta-6\n",
        "import numpy as np\n",
        "theta = np.random.random()\n",
        "alpha = 0.1\n",
        "epsilon = 0.0001\n",
        "while True:\n",
        "  theta = theta + alpha*gradient(theta)\n",
        "  if abs(gradient(theta))<epsilon:break\n",
        "print (\"Max value of L(theta)\") \n",
        "L\n",
        "print(\"is reached at\") \n",
        "theta"
      ]
    }
  ]
}