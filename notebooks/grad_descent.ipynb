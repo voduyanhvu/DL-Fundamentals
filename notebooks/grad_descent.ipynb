{
  "nbformat": 4,
  "nbformat_minor": 0,
  "metadata": {
    "colab": {
      "provenance": [],
      "authorship_tag": "ABX9TyNz7zy71wYob0w/Z209PlUc",
      "include_colab_link": true
    },
    "kernelspec": {
      "name": "python3",
      "display_name": "Python 3"
    },
    "language_info": {
      "name": "python"
    }
  },
  "cells": [
    {
      "cell_type": "markdown",
      "metadata": {
        "id": "view-in-github",
        "colab_type": "text"
      },
      "source": [
        "<a href=\"https://colab.research.google.com/github/voduyanhvu/DL-Fundamentals/blob/main/notebooks/grad_descent.ipynb\" target=\"_parent\"><img src=\"https://colab.research.google.com/assets/colab-badge.svg\" alt=\"Open In Colab\"/></a>"
      ]
    },
    {
      "cell_type": "code",
      "execution_count": 15,
      "metadata": {
        "colab": {
          "base_uri": "https://localhost:8080/"
        },
        "id": "TADNC32DiusV",
        "outputId": "494dcb54-5f9c-4494-824b-7bfb2a994db8"
      },
      "outputs": [
        {
          "output_type": "stream",
          "name": "stdout",
          "text": [
            "Max value of L(theta) 4.999999999991699 is reached at -0.9999983365722956\n"
          ]
        }
      ],
      "source": [
        "import numpy as np\n",
        "\n",
        "def L(theta):\n",
        "  return -3*(theta**2)-(6*theta)+2\n",
        "def derivateL(theta):\n",
        "  return -6*theta-6\n",
        "\n",
        "theta = np.random.random()\n",
        "alpha = 0.01\n",
        "epsilon = 0.00001\n",
        "\n",
        "while True:\n",
        "  theta = theta + alpha*derivateL(theta)\n",
        "  if abs(derivateL(theta))<epsilon:break\n",
        "\n",
        "print (\"Max value of L(theta)\", L(theta) ,\"is reached at\", theta)"
      ]
    }
  ]
}