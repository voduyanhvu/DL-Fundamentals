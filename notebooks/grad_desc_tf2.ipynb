{
  "nbformat": 4,
  "nbformat_minor": 0,
  "metadata": {
    "colab": {
      "provenance": [],
      "authorship_tag": "ABX9TyM58ylpeIgk5IhBxoY+W3nF",
      "include_colab_link": true
    },
    "kernelspec": {
      "name": "python3",
      "display_name": "Python 3"
    },
    "language_info": {
      "name": "python"
    }
  },
  "cells": [
    {
      "cell_type": "markdown",
      "metadata": {
        "id": "view-in-github",
        "colab_type": "text"
      },
      "source": [
        "<a href=\"https://colab.research.google.com/github/voduyanhvu/DL-Fundamentals/blob/main/notebooks/grad_desc_tf2.ipynb\" target=\"_parent\"><img src=\"https://colab.research.google.com/assets/colab-badge.svg\" alt=\"Open In Colab\"/></a>"
      ]
    },
    {
      "cell_type": "code",
      "execution_count": 6,
      "metadata": {
        "colab": {
          "base_uri": "https://localhost:8080/"
        },
        "id": "t5J0jhjiOI4l",
        "outputId": "ac04b74c-3b0b-4f93-d00e-dfc151cdac91"
      },
      "outputs": [
        {
          "output_type": "stream",
          "name": "stdout",
          "text": [
            "Theta toi uu: 1.9999962\n",
            "Gia tri Loss nho nhat: 6.0\n"
          ]
        }
      ],
      "source": [
        "import numpy as np\n",
        "import tensorflow as tf\n",
        "\n",
        "theta = tf.Variable(-4.0) # theta la bien so duoc cap nhat trong qua trinh huan luyen\n",
        "eps = 0.00001\n",
        "@tf.function\n",
        "def Loss(theta):\n",
        "  return theta**2 - 4*theta +10\n",
        "\n",
        "opt = tf.keras.optimizers.SGD(learning_rate=0.1)\n",
        "\n",
        "while (True):\n",
        "  with tf.GradientTape() as tape:\n",
        "      loss = Loss(theta)\n",
        "      # print(loss)\n",
        "  grads = tape.gradient(loss,[theta])\n",
        "  # print(grads)\n",
        "  # Cap nhat tham so theta\n",
        "  opt.apply_gradients(zip(grads,[theta]))\n",
        "  # Kiem tra xem khi nao dung\n",
        "  if abs(grads[0].numpy()) < eps:\n",
        "    break\n",
        "\n",
        "print('Theta toi uu:', theta.numpy())\n",
        "print('Gia tri Loss nho nhat:', loss.numpy())"
      ]
    }
  ]
}